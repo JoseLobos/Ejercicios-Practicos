{
  "nbformat": 4,
  "nbformat_minor": 0,
  "metadata": {
    "colab": {
      "provenance": [],
      "authorship_tag": "ABX9TyPPKAnmn/U7xmNu7D0FDttA",
      "include_colab_link": true
    },
    "kernelspec": {
      "name": "python3",
      "display_name": "Python 3"
    },
    "language_info": {
      "name": "python"
    }
  },
  "cells": [
    {
      "cell_type": "markdown",
      "metadata": {
        "id": "view-in-github",
        "colab_type": "text"
      },
      "source": [
        "<a href=\"https://colab.research.google.com/github/JoseLobos/Ejercicios-Practicos/blob/main/Untitled10.ipynb\" target=\"_parent\"><img src=\"https://colab.research.google.com/assets/colab-badge.svg\" alt=\"Open In Colab\"/></a>"
      ]
    },
    {
      "cell_type": "code",
      "execution_count": 3,
      "metadata": {
        "colab": {
          "base_uri": "https://localhost:8080/",
          "height": 299
        },
        "id": "aF79mttuaOyf",
        "outputId": "10c58a32-e943-47c8-f575-7e4dfad28d84"
      },
      "outputs": [
        {
          "output_type": "stream",
          "name": "stdout",
          "text": [
            "[13680, 12372]\n"
          ]
        },
        {
          "output_type": "display_data",
          "data": {
            "text/plain": [
              "<Figure size 432x288 with 1 Axes>"
            ],
            "image/png": "[encoded data removed]"
          },
          "metadata": {
            "needs_background": "light"
          }
        }
      ],
      "source": [
        "from matplotlib import markers\n",
        "import pandas as pd\n",
        "import matplotlib.pyplot as plt\n",
        "\n",
        "df = pd.read_csv(\"trx_tarjetas_credito.csv\")\n",
        "\n",
        "gn=df.Gender.value_counts()\n",
        "\n",
        "sum=['F','M']\n",
        "genero=gn.to_list()\n",
        "fig, ax = plt.subplots()\n",
        "\n",
        "ax.bar(sum,genero,width=1/2)\n",
        "ax.set_title('Utilizacion de Tarjetas de Credito Hombres y Mujeres') \n",
        "ax.plot(sum,gn,color = 'k', marker='D',linestyle = 'dashed')\n",
        "print(genero)\n",
        "\n",
        "plt.show()"
      ]
    },
    {
      "cell_type": "code",
      "source": [
        "df.groupby([\"City\",'Card Type'])[\"Amount\"].sum()"
      ],
      "metadata": {
        "colab": {
          "base_uri": "https://localhost:8080/"
        },
        "id": "OlGsOFNmaYKl",
        "outputId": "2e4df8b2-ad50-4e5b-cbc3-e5d2739273a8"
      },
      "execution_count": 4,
      "outputs": [
        {
          "output_type": "execute_result",
          "data": {
            "text/plain": [
              "City              Card Type\n",
              "Achalpur, India   Gold         679992\n",
              "                  Platinum     178612\n",
              "                  Signature    547005\n",
              "                  Silver       201032\n",
              "Adilabad, India   Gold          49020\n",
              "                                ...  \n",
              "Zira, India       Signature    218424\n",
              "                  Silver        98224\n",
              "Zirakpur, India   Platinum     549663\n",
              "Zunheboto, India  Signature     89271\n",
              "                  Silver       377158\n",
              "Name: Amount, Length: 3104, dtype: int64"
            ]
          },
          "metadata": {},
          "execution_count": 4
        }
      ]
    }
  ]
}